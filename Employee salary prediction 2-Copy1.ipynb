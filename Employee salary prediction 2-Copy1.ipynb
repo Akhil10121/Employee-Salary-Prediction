{
 "cells": [
  {
   "cell_type": "code",
   "execution_count": 1,
   "metadata": {},
   "outputs": [],
   "source": [
    "import pandas as pd\n",
    "import numpy as np\n",
    "df=pd.read_csv(r\"C:\\Users\\akhil\\OneDrive\\Desktop\\employee salary prediction 1.csv\")"
   ]
  },
  {
   "cell_type": "code",
   "execution_count": 2,
   "metadata": {},
   "outputs": [
    {
     "name": "stdout",
     "output_type": "stream",
     "text": [
      "     Experience  Education           Job_Role   Location   Age   Salary\n",
      "0           NaN  Bachelors     Data Scientist    Chennai   NaN   651684\n",
      "1           0.0  Bachelors     Data Scientist     Mumbai  26.0   457248\n",
      "2           8.0  Bachelors    Project Manager          ?  38.0   827534\n",
      "3           7.0  Bachelors  Software Engineer          ?  45.0   598278\n",
      "4           7.0    Masters     Data Scientist      Delhi  37.0   811280\n",
      "..          ...        ...                ...        ...   ...      ...\n",
      "115         3.0  Bachelors    Project Manager      Delhi  35.0   620013\n",
      "116         9.0        PhD    Project Manager  Bangalore  28.0  1043947\n",
      "117         6.0          ?    Project Manager      Delhi  23.0   726503\n",
      "118         4.0    Masters                  ?  Bangalore  35.0   553617\n",
      "119        11.0    Masters     Data Scientist  Hyderabad  38.0   987343\n",
      "\n",
      "[120 rows x 6 columns]\n"
     ]
    }
   ],
   "source": [
    "print(df)"
   ]
  },
  {
   "cell_type": "code",
   "execution_count": 3,
   "metadata": {},
   "outputs": [
    {
     "data": {
      "text/html": [
       "<div>\n",
       "<style scoped>\n",
       "    .dataframe tbody tr th:only-of-type {\n",
       "        vertical-align: middle;\n",
       "    }\n",
       "\n",
       "    .dataframe tbody tr th {\n",
       "        vertical-align: top;\n",
       "    }\n",
       "\n",
       "    .dataframe thead th {\n",
       "        text-align: right;\n",
       "    }\n",
       "</style>\n",
       "<table border=\"1\" class=\"dataframe\">\n",
       "  <thead>\n",
       "    <tr style=\"text-align: right;\">\n",
       "      <th></th>\n",
       "      <th>Experience</th>\n",
       "      <th>Education</th>\n",
       "      <th>Job_Role</th>\n",
       "      <th>Location</th>\n",
       "      <th>Age</th>\n",
       "      <th>Salary</th>\n",
       "    </tr>\n",
       "  </thead>\n",
       "  <tbody>\n",
       "    <tr>\n",
       "      <td>0</td>\n",
       "      <td>NaN</td>\n",
       "      <td>Bachelors</td>\n",
       "      <td>Data Scientist</td>\n",
       "      <td>Chennai</td>\n",
       "      <td>NaN</td>\n",
       "      <td>651684</td>\n",
       "    </tr>\n",
       "    <tr>\n",
       "      <td>1</td>\n",
       "      <td>0.0</td>\n",
       "      <td>Bachelors</td>\n",
       "      <td>Data Scientist</td>\n",
       "      <td>Mumbai</td>\n",
       "      <td>26.0</td>\n",
       "      <td>457248</td>\n",
       "    </tr>\n",
       "    <tr>\n",
       "      <td>2</td>\n",
       "      <td>8.0</td>\n",
       "      <td>Bachelors</td>\n",
       "      <td>Project Manager</td>\n",
       "      <td>?</td>\n",
       "      <td>38.0</td>\n",
       "      <td>827534</td>\n",
       "    </tr>\n",
       "    <tr>\n",
       "      <td>3</td>\n",
       "      <td>7.0</td>\n",
       "      <td>Bachelors</td>\n",
       "      <td>Software Engineer</td>\n",
       "      <td>?</td>\n",
       "      <td>45.0</td>\n",
       "      <td>598278</td>\n",
       "    </tr>\n",
       "    <tr>\n",
       "      <td>4</td>\n",
       "      <td>7.0</td>\n",
       "      <td>Masters</td>\n",
       "      <td>Data Scientist</td>\n",
       "      <td>Delhi</td>\n",
       "      <td>37.0</td>\n",
       "      <td>811280</td>\n",
       "    </tr>\n",
       "  </tbody>\n",
       "</table>\n",
       "</div>"
      ],
      "text/plain": [
       "   Experience  Education           Job_Role Location   Age  Salary\n",
       "0         NaN  Bachelors     Data Scientist  Chennai   NaN  651684\n",
       "1         0.0  Bachelors     Data Scientist   Mumbai  26.0  457248\n",
       "2         8.0  Bachelors    Project Manager        ?  38.0  827534\n",
       "3         7.0  Bachelors  Software Engineer        ?  45.0  598278\n",
       "4         7.0    Masters     Data Scientist    Delhi  37.0  811280"
      ]
     },
     "execution_count": 3,
     "metadata": {},
     "output_type": "execute_result"
    }
   ],
   "source": [
    "df.head(5)"
   ]
  },
  {
   "cell_type": "code",
   "execution_count": 4,
   "metadata": {},
   "outputs": [],
   "source": [
    "df.replace('?', np.nan, inplace=True)"
   ]
  },
  {
   "cell_type": "code",
   "execution_count": 5,
   "metadata": {},
   "outputs": [
    {
     "name": "stdout",
     "output_type": "stream",
     "text": [
      "\n",
      "Number of missing values per column after replacing '?':\n"
     ]
    }
   ],
   "source": [
    "print(\"\\nNumber of missing values per column after replacing '?':\")"
   ]
  },
  {
   "cell_type": "code",
   "execution_count": 6,
   "metadata": {},
   "outputs": [
    {
     "name": "stdout",
     "output_type": "stream",
     "text": [
      "Experience     8\n",
      "Education     22\n",
      "Job_Role      24\n",
      "Location      22\n",
      "Age            8\n",
      "Salary         0\n",
      "dtype: int64\n"
     ]
    }
   ],
   "source": [
    "print(df.isnull().sum())"
   ]
  },
  {
   "cell_type": "code",
   "execution_count": 7,
   "metadata": {},
   "outputs": [
    {
     "name": "stdout",
     "output_type": "stream",
     "text": [
      "\n",
      "Remaining missing values after filling: 0\n",
      "Experience    float64\n",
      "Education      object\n",
      "Job_Role       object\n",
      "Location       object\n",
      "Age           float64\n",
      "Salary          int64\n",
      "dtype: object\n",
      "\n",
      "Outlier capping completed on numerical columns.\n"
     ]
    }
   ],
   "source": [
    "   for col in df.columns:\n",
    "    if df[col].dtype in ['float64', 'int64']:\n",
    "        df[col].fillna(df[col].median(), inplace=True)\n",
    "    else:\n",
    "        df[col].fillna(df[col].mode()[0], inplace=True)\n",
    "\n",
    "print(\"\\nRemaining missing values after filling:\", df.isnull().sum().sum())\n",
    "print(df.dtypes)\n",
    "\n",
    "# Handle outliers: Cap to IQR Limits\n",
    "numeric_cols = df.select_dtypes(include=np.number).columns.tolist()\n",
    "for col in numeric_cols:\n",
    "    Q1 = df[col].quantile(0.25)\n",
    "    Q3 = df[col].quantile(0.75)\n",
    "    IQR = Q3 - Q1\n",
    "    lower = Q1 - 1.5 * IQR\n",
    "    upper = Q3 + 1.5 * IQR\n",
    "    df[col] = np.where(df[col] < lower, lower, df[col])\n",
    "    df[col] = np.where(df[col] > upper, upper, df[col])\n",
    "print(\"\\nOutlier capping completed on numerical columns.\")"
   ]
  },
  {
   "cell_type": "code",
   "execution_count": 8,
   "metadata": {},
   "outputs": [
    {
     "name": "stdout",
     "output_type": "stream",
     "text": [
      "\n",
      "Categorical encoding complete. Columns now are:\n"
     ]
    }
   ],
   "source": [
    "# Encode categorical columns (excluding target 'salary')\n",
    "categorical_cols = df.select_dtypes(include='object').columns.tolist()\n",
    "if 'salary' in categorical_cols:\n",
    "    categorical_cols.remove('salary')\n",
    "df_encoded = pd.get_dummies(df, columns=categorical_cols, drop_first=True)\n",
    "print(\"\\nCategorical encoding complete. Columns now are:\")\n"
   ]
  },
  {
   "cell_type": "code",
   "execution_count": 9,
   "metadata": {},
   "outputs": [
    {
     "name": "stdout",
     "output_type": "stream",
     "text": [
      "['Experience', 'Age', 'Salary', 'Education_Masters', 'Education_PhD', 'Job_Role_Project Manager', 'Job_Role_QA Engineer', 'Job_Role_Software Engineer', 'Job_Role_Support Engineer', 'Location_Chennai', 'Location_Delhi', 'Location_Hyderabad', 'Location_Mumbai', 'Location_Pune']\n"
     ]
    }
   ],
   "source": [
    "print(df_encoded.columns.tolist())"
   ]
  },
  {
   "cell_type": "code",
   "execution_count": 10,
   "metadata": {},
   "outputs": [
    {
     "name": "stdout",
     "output_type": "stream",
     "text": [
      "Columns available in the DataFrame:\n",
      "['Experience', 'Education', 'Job_Role', 'Location', 'Age', 'Salary']\n"
     ]
    }
   ],
   "source": [
    "print(\"Columns available in the DataFrame:\")\n",
    "print(df.columns.tolist())"
   ]
  },
  {
   "cell_type": "code",
   "execution_count": 11,
   "metadata": {},
   "outputs": [
    {
     "name": "stdout",
     "output_type": "stream",
     "text": [
      "Standardized column names now: ['experience', 'education', 'job_role', 'location', 'age', 'salary']\n"
     ]
    }
   ],
   "source": [
    "df.columns = df.columns.str.strip().str.lower()\n",
    "print(\"Standardized column names now:\", df.columns.tolist())"
   ]
  },
  {
   "cell_type": "code",
   "execution_count": 12,
   "metadata": {},
   "outputs": [
    {
     "name": "stdout",
     "output_type": "stream",
     "text": [
      "\n",
      "Train-test split done. Train size: (96, 13), Test size: (24, 13)\n"
     ]
    }
   ],
   "source": [
    "from sklearn.model_selection import train_test_split\n",
    "\n",
    "X = df_encoded.drop(\"Salary\", axis=1)\n",
    "y = df_encoded[\"Salary\"]\n",
    "\n",
    "X_train, X_test, y_train, y_test = train_test_split(X, y, test_size=0.2, random_state=42)\n",
    "print(f\"\\nTrain-test split done. Train size: {X_train.shape}, Test size: {X_test.shape}\")"
   ]
  },
  {
   "cell_type": "code",
   "execution_count": 13,
   "metadata": {},
   "outputs": [
    {
     "data": {
      "text/html": [
       "<div>\n",
       "<style scoped>\n",
       "    .dataframe tbody tr th:only-of-type {\n",
       "        vertical-align: middle;\n",
       "    }\n",
       "\n",
       "    .dataframe tbody tr th {\n",
       "        vertical-align: top;\n",
       "    }\n",
       "\n",
       "    .dataframe thead th {\n",
       "        text-align: right;\n",
       "    }\n",
       "</style>\n",
       "<table border=\"1\" class=\"dataframe\">\n",
       "  <thead>\n",
       "    <tr style=\"text-align: right;\">\n",
       "      <th></th>\n",
       "      <th>Experience</th>\n",
       "      <th>Age</th>\n",
       "      <th>Education_Masters</th>\n",
       "      <th>Education_PhD</th>\n",
       "      <th>Job_Role_Project Manager</th>\n",
       "      <th>Job_Role_QA Engineer</th>\n",
       "      <th>Job_Role_Software Engineer</th>\n",
       "      <th>Job_Role_Support Engineer</th>\n",
       "      <th>Location_Chennai</th>\n",
       "      <th>Location_Delhi</th>\n",
       "      <th>Location_Hyderabad</th>\n",
       "      <th>Location_Mumbai</th>\n",
       "      <th>Location_Pune</th>\n",
       "    </tr>\n",
       "  </thead>\n",
       "  <tbody>\n",
       "    <tr>\n",
       "      <td>0</td>\n",
       "      <td>7.0</td>\n",
       "      <td>33.0</td>\n",
       "      <td>0</td>\n",
       "      <td>0</td>\n",
       "      <td>0</td>\n",
       "      <td>0</td>\n",
       "      <td>0</td>\n",
       "      <td>0</td>\n",
       "      <td>1</td>\n",
       "      <td>0</td>\n",
       "      <td>0</td>\n",
       "      <td>0</td>\n",
       "      <td>0</td>\n",
       "    </tr>\n",
       "    <tr>\n",
       "      <td>1</td>\n",
       "      <td>0.0</td>\n",
       "      <td>26.0</td>\n",
       "      <td>0</td>\n",
       "      <td>0</td>\n",
       "      <td>0</td>\n",
       "      <td>0</td>\n",
       "      <td>0</td>\n",
       "      <td>0</td>\n",
       "      <td>0</td>\n",
       "      <td>0</td>\n",
       "      <td>0</td>\n",
       "      <td>1</td>\n",
       "      <td>0</td>\n",
       "    </tr>\n",
       "    <tr>\n",
       "      <td>2</td>\n",
       "      <td>8.0</td>\n",
       "      <td>38.0</td>\n",
       "      <td>0</td>\n",
       "      <td>0</td>\n",
       "      <td>1</td>\n",
       "      <td>0</td>\n",
       "      <td>0</td>\n",
       "      <td>0</td>\n",
       "      <td>0</td>\n",
       "      <td>0</td>\n",
       "      <td>0</td>\n",
       "      <td>0</td>\n",
       "      <td>0</td>\n",
       "    </tr>\n",
       "    <tr>\n",
       "      <td>3</td>\n",
       "      <td>7.0</td>\n",
       "      <td>45.0</td>\n",
       "      <td>0</td>\n",
       "      <td>0</td>\n",
       "      <td>0</td>\n",
       "      <td>0</td>\n",
       "      <td>1</td>\n",
       "      <td>0</td>\n",
       "      <td>0</td>\n",
       "      <td>0</td>\n",
       "      <td>0</td>\n",
       "      <td>0</td>\n",
       "      <td>0</td>\n",
       "    </tr>\n",
       "    <tr>\n",
       "      <td>4</td>\n",
       "      <td>7.0</td>\n",
       "      <td>37.0</td>\n",
       "      <td>1</td>\n",
       "      <td>0</td>\n",
       "      <td>0</td>\n",
       "      <td>0</td>\n",
       "      <td>0</td>\n",
       "      <td>0</td>\n",
       "      <td>0</td>\n",
       "      <td>1</td>\n",
       "      <td>0</td>\n",
       "      <td>0</td>\n",
       "      <td>0</td>\n",
       "    </tr>\n",
       "    <tr>\n",
       "      <td>...</td>\n",
       "      <td>...</td>\n",
       "      <td>...</td>\n",
       "      <td>...</td>\n",
       "      <td>...</td>\n",
       "      <td>...</td>\n",
       "      <td>...</td>\n",
       "      <td>...</td>\n",
       "      <td>...</td>\n",
       "      <td>...</td>\n",
       "      <td>...</td>\n",
       "      <td>...</td>\n",
       "      <td>...</td>\n",
       "      <td>...</td>\n",
       "    </tr>\n",
       "    <tr>\n",
       "      <td>115</td>\n",
       "      <td>3.0</td>\n",
       "      <td>35.0</td>\n",
       "      <td>0</td>\n",
       "      <td>0</td>\n",
       "      <td>1</td>\n",
       "      <td>0</td>\n",
       "      <td>0</td>\n",
       "      <td>0</td>\n",
       "      <td>0</td>\n",
       "      <td>1</td>\n",
       "      <td>0</td>\n",
       "      <td>0</td>\n",
       "      <td>0</td>\n",
       "    </tr>\n",
       "    <tr>\n",
       "      <td>116</td>\n",
       "      <td>9.0</td>\n",
       "      <td>28.0</td>\n",
       "      <td>0</td>\n",
       "      <td>1</td>\n",
       "      <td>1</td>\n",
       "      <td>0</td>\n",
       "      <td>0</td>\n",
       "      <td>0</td>\n",
       "      <td>0</td>\n",
       "      <td>0</td>\n",
       "      <td>0</td>\n",
       "      <td>0</td>\n",
       "      <td>0</td>\n",
       "    </tr>\n",
       "    <tr>\n",
       "      <td>117</td>\n",
       "      <td>6.0</td>\n",
       "      <td>23.0</td>\n",
       "      <td>0</td>\n",
       "      <td>0</td>\n",
       "      <td>1</td>\n",
       "      <td>0</td>\n",
       "      <td>0</td>\n",
       "      <td>0</td>\n",
       "      <td>0</td>\n",
       "      <td>1</td>\n",
       "      <td>0</td>\n",
       "      <td>0</td>\n",
       "      <td>0</td>\n",
       "    </tr>\n",
       "    <tr>\n",
       "      <td>118</td>\n",
       "      <td>4.0</td>\n",
       "      <td>35.0</td>\n",
       "      <td>1</td>\n",
       "      <td>0</td>\n",
       "      <td>0</td>\n",
       "      <td>1</td>\n",
       "      <td>0</td>\n",
       "      <td>0</td>\n",
       "      <td>0</td>\n",
       "      <td>0</td>\n",
       "      <td>0</td>\n",
       "      <td>0</td>\n",
       "      <td>0</td>\n",
       "    </tr>\n",
       "    <tr>\n",
       "      <td>119</td>\n",
       "      <td>11.0</td>\n",
       "      <td>38.0</td>\n",
       "      <td>1</td>\n",
       "      <td>0</td>\n",
       "      <td>0</td>\n",
       "      <td>0</td>\n",
       "      <td>0</td>\n",
       "      <td>0</td>\n",
       "      <td>0</td>\n",
       "      <td>0</td>\n",
       "      <td>1</td>\n",
       "      <td>0</td>\n",
       "      <td>0</td>\n",
       "    </tr>\n",
       "  </tbody>\n",
       "</table>\n",
       "<p>120 rows × 13 columns</p>\n",
       "</div>"
      ],
      "text/plain": [
       "     Experience   Age  Education_Masters  Education_PhD  \\\n",
       "0           7.0  33.0                  0              0   \n",
       "1           0.0  26.0                  0              0   \n",
       "2           8.0  38.0                  0              0   \n",
       "3           7.0  45.0                  0              0   \n",
       "4           7.0  37.0                  1              0   \n",
       "..          ...   ...                ...            ...   \n",
       "115         3.0  35.0                  0              0   \n",
       "116         9.0  28.0                  0              1   \n",
       "117         6.0  23.0                  0              0   \n",
       "118         4.0  35.0                  1              0   \n",
       "119        11.0  38.0                  1              0   \n",
       "\n",
       "     Job_Role_Project Manager  Job_Role_QA Engineer  \\\n",
       "0                           0                     0   \n",
       "1                           0                     0   \n",
       "2                           1                     0   \n",
       "3                           0                     0   \n",
       "4                           0                     0   \n",
       "..                        ...                   ...   \n",
       "115                         1                     0   \n",
       "116                         1                     0   \n",
       "117                         1                     0   \n",
       "118                         0                     1   \n",
       "119                         0                     0   \n",
       "\n",
       "     Job_Role_Software Engineer  Job_Role_Support Engineer  Location_Chennai  \\\n",
       "0                             0                          0                 1   \n",
       "1                             0                          0                 0   \n",
       "2                             0                          0                 0   \n",
       "3                             1                          0                 0   \n",
       "4                             0                          0                 0   \n",
       "..                          ...                        ...               ...   \n",
       "115                           0                          0                 0   \n",
       "116                           0                          0                 0   \n",
       "117                           0                          0                 0   \n",
       "118                           0                          0                 0   \n",
       "119                           0                          0                 0   \n",
       "\n",
       "     Location_Delhi  Location_Hyderabad  Location_Mumbai  Location_Pune  \n",
       "0                 0                   0                0              0  \n",
       "1                 0                   0                1              0  \n",
       "2                 0                   0                0              0  \n",
       "3                 0                   0                0              0  \n",
       "4                 1                   0                0              0  \n",
       "..              ...                 ...              ...            ...  \n",
       "115               1                   0                0              0  \n",
       "116               0                   0                0              0  \n",
       "117               1                   0                0              0  \n",
       "118               0                   0                0              0  \n",
       "119               0                   1                0              0  \n",
       "\n",
       "[120 rows x 13 columns]"
      ]
     },
     "execution_count": 13,
     "metadata": {},
     "output_type": "execute_result"
    }
   ],
   "source": [
    "X"
   ]
  },
  {
   "cell_type": "code",
   "execution_count": 14,
   "metadata": {},
   "outputs": [],
   "source": [
    "y = df_encoded[\"Salary\"]"
   ]
  },
  {
   "cell_type": "code",
   "execution_count": 15,
   "metadata": {},
   "outputs": [
    {
     "name": "stdout",
     "output_type": "stream",
     "text": [
      "0       651684.0\n",
      "1       457248.0\n",
      "2       827534.0\n",
      "3       598278.0\n",
      "4       811280.0\n",
      "         ...    \n",
      "115     620013.0\n",
      "116    1043947.0\n",
      "117     726503.0\n",
      "118     553617.0\n",
      "119     987343.0\n",
      "Name: Salary, Length: 120, dtype: float64\n"
     ]
    }
   ],
   "source": [
    "print(y)"
   ]
  },
  {
   "cell_type": "code",
   "execution_count": 16,
   "metadata": {},
   "outputs": [
    {
     "name": "stdout",
     "output_type": "stream",
     "text": [
      "\n",
      "Linear Regression model trained.\n"
     ]
    }
   ],
   "source": [
    "from sklearn.linear_model import LinearRegression\n",
    "\n",
    "model = LinearRegression()\n",
    "model.fit(X_train, y_train)\n",
    "print(\"\\nLinear Regression model trained.\")"
   ]
  },
  {
   "cell_type": "code",
   "execution_count": 17,
   "metadata": {},
   "outputs": [
    {
     "name": "stdout",
     "output_type": "stream",
     "text": [
      "X_train values:\n",
      "     Experience   Age  Education_Masters  Education_PhD  \\\n",
      "42          6.0  30.0                  0              0   \n",
      "12          6.0  30.0                  1              0   \n",
      "15          7.0  33.0                  0              0   \n",
      "114         5.0  29.0                  1              0   \n",
      "76         10.0  27.0                  0              0   \n",
      "..          ...   ...                ...            ...   \n",
      "106        10.0  28.0                  0              0   \n",
      "14          0.0  22.0                  0              0   \n",
      "92          2.0  34.0                  0              0   \n",
      "51          8.0  28.0                  1              0   \n",
      "102         8.0  33.0                  1              0   \n",
      "\n",
      "     Job_Role_Project Manager  Job_Role_QA Engineer  \\\n",
      "42                          0                     1   \n",
      "12                          0                     0   \n",
      "15                          1                     0   \n",
      "114                         0                     1   \n",
      "76                          0                     1   \n",
      "..                        ...                   ...   \n",
      "106                         0                     0   \n",
      "14                          0                     0   \n",
      "92                          0                     0   \n",
      "51                          0                     1   \n",
      "102                         0                     0   \n",
      "\n",
      "     Job_Role_Software Engineer  Job_Role_Support Engineer  Location_Chennai  \\\n",
      "42                            0                          0                 0   \n",
      "12                            0                          0                 1   \n",
      "15                            0                          0                 0   \n",
      "114                           0                          0                 0   \n",
      "76                            0                          0                 0   \n",
      "..                          ...                        ...               ...   \n",
      "106                           1                          0                 0   \n",
      "14                            1                          0                 0   \n",
      "92                            0                          1                 0   \n",
      "51                            0                          0                 0   \n",
      "102                           0                          1                 0   \n",
      "\n",
      "     Location_Delhi  Location_Hyderabad  Location_Mumbai  Location_Pune  \n",
      "42                0                   0                0              0  \n",
      "12                0                   0                0              0  \n",
      "15                0                   0                0              0  \n",
      "114               0                   0                1              0  \n",
      "76                0                   0                0              0  \n",
      "..              ...                 ...              ...            ...  \n",
      "106               0                   0                0              1  \n",
      "14                0                   1                0              0  \n",
      "92                1                   0                0              0  \n",
      "51                0                   0                0              0  \n",
      "102               0                   1                0              0  \n",
      "\n",
      "[96 rows x 13 columns]\n",
      "\n",
      "y_train values:\n",
      "42     532997.0\n",
      "12     771902.0\n",
      "15     715004.0\n",
      "114    618569.0\n",
      "76     681130.0\n",
      "         ...   \n",
      "106    683513.0\n",
      "14     310630.0\n",
      "92     329414.0\n",
      "51     706916.0\n",
      "102    653367.0\n",
      "Name: Salary, Length: 96, dtype: float64\n"
     ]
    }
   ],
   "source": [
    "print(\"X_train values:\")\n",
    "print(X_train)\n",
    "\n",
    "print(\"\\ny_train values:\")\n",
    "print(y_train)"
   ]
  },
  {
   "cell_type": "code",
   "execution_count": 18,
   "metadata": {},
   "outputs": [],
   "source": [
    "y_pred = model.predict(X_test)"
   ]
  },
  {
   "cell_type": "code",
   "execution_count": 19,
   "metadata": {},
   "outputs": [
    {
     "name": "stdout",
     "output_type": "stream",
     "text": [
      "Predicted values for y_test:\n",
      "[464400.0960229  568861.36519797 820859.16683894 698483.74150472\n",
      " 556621.58386261 784695.14009751 635881.99745499 459514.57862715\n",
      " 756178.26131259 500137.68307001]\n",
      "\n",
      "Actual values for y_test:\n",
      "[489764. 582754. 811280. 704193. 555351. 784837. 626635. 444453. 760444.\n",
      " 536886.]\n",
      "\n",
      "R² Score: 0.98\n",
      "Mean Squared Error: 1001721629.34\n"
     ]
    },
    {
     "data": {
      "text/plain": [
       "<Figure size 640x480 with 1 Axes>"
      ]
     },
     "metadata": {},
     "output_type": "display_data"
    }
   ],
   "source": [
    "from sklearn.metrics import r2_score, mean_squared_error\n",
    "import matplotlib.pyplot as plt\n",
    "\n",
    "# 1. Make predictions on the test set\n",
    "y_pred = model.predict(X_test)\n",
    "print(\"Predicted values for y_test:\")\n",
    "print(y_pred[:10])         # Print first 10 predicted values\n",
    "print(\"\\nActual values for y_test:\")\n",
    "print(y_test.values[:10])  # Print first 10 actual values\n",
    "\n",
    "# 2. Calculate R² Score\n",
    "r2 = r2_score(y_test, y_pred)\n",
    "print(f\"\\nR² Score: {r2:.2f}\")\n",
    "\n",
    "# 3. Calculate Mean Squared Error\n",
    "mse = mean_squared_error(y_test, y_pred)\n",
    "print(f\"Mean Squared Error: {mse:.2f}\")\n",
    "\n",
    "# 4. (Optional) Visualize Actual vs Predicted\n",
    "plt.scatter(y_test, y_pred)\n",
    "plt.xlabel(\"Actual Salaries\")\n",
    "plt.ylabel(\"Predicted Salaries\")\n",
    "plt.title(\"Actual vs Predicted Salaries\")\n",
    "plt.show()"
   ]
  },
  {
   "cell_type": "code",
   "execution_count": 20,
   "metadata": {},
   "outputs": [
    {
     "name": "stdout",
     "output_type": "stream",
     "text": [
      "\n",
      "Sample prediction for new employee (features):\n",
      "    Experience   Age  Education_Masters  Education_PhD  \\\n",
      "44         1.0  42.0                  0              1   \n",
      "\n",
      "    Job_Role_Project Manager  Job_Role_QA Engineer  \\\n",
      "44                         0                     0   \n",
      "\n",
      "    Job_Role_Software Engineer  Job_Role_Support Engineer  Location_Chennai  \\\n",
      "44                           0                          1                 0   \n",
      "\n",
      "    Location_Delhi  Location_Hyderabad  Location_Mumbai  Location_Pune  \n",
      "44               1                   0                0              0  \n",
      "\n",
      "Predicted Salary: 464,400.10\n"
     ]
    }
   ],
   "source": [
    "# Example input (adjust field names as per one-hot encoding above!)\n",
    "new_employee = X_test.iloc[[0]]  # Using one real test row for demonstration\n",
    "predicted_salary = model.predict(new_employee)\n",
    "print(f\"\\nSample prediction for new employee (features):\\n{new_employee}\")\n",
    "print(f\"\\nPredicted Salary: {predicted_salary[0]:,.2f}\")"
   ]
  },
  {
   "cell_type": "code",
   "execution_count": 21,
   "metadata": {},
   "outputs": [
    {
     "name": "stdout",
     "output_type": "stream",
     "text": [
      "Random Forest R² Score: 0.85\n",
      "Random Forest Mean Squared Error: 6098126488.72\n"
     ]
    }
   ],
   "source": [
    "from sklearn.ensemble import RandomForestRegressor\n",
    "\n",
    "rf_model = RandomForestRegressor(n_estimators=100, random_state=42)\n",
    "rf_model.fit(X_train, y_train)\n",
    "y_pred_rf = rf_model.predict(X_test)\n",
    "\n",
    "r2_rf = r2_score(y_test, y_pred_rf)\n",
    "mse_rf = mean_squared_error(y_test, y_pred_rf)\n",
    "\n",
    "print(\"Random Forest R² Score:\", round(r2_rf, 2))\n",
    "print(\"Random Forest Mean Squared Error:\", round(mse_rf, 2))"
   ]
  },
  {
   "cell_type": "code",
   "execution_count": 22,
   "metadata": {},
   "outputs": [
    {
     "data": {
      "image/png": "[encoded data removed]",
      "text/plain": [
       "<Figure size 504x360 with 1 Axes>"
      ]
     },
     "metadata": {
      "needs_background": "light"
     },
     "output_type": "display_data"
    }
   ],
   "source": [
    "import matplotlib.pyplot as plt\n",
    "from sklearn.ensemble import RandomForestRegressor\n",
    "from sklearn.metrics import r2_score, mean_squared_error\n",
    "\n",
    "# If not already trained, train your model:\n",
    "rf_model = RandomForestRegressor(n_estimators=100, random_state=42)\n",
    "rf_model.fit(X_train, y_train)\n",
    "y_pred_rf = rf_model.predict(X_test)\n",
    "\n",
    "# Scatter plot: Actual vs Predicted\n",
    "plt.figure(figsize=(7,5))\n",
    "plt.scatter(y_test, y_pred_rf, color='green', alpha=0.7)\n",
    "plt.xlabel(\"Actual Salaries\")\n",
    "plt.ylabel(\"Predicted Salaries\")\n",
    "plt.title(\"Random Forest: Actual vs Predicted Salaries\")\n",
    "plt.plot([y_test.min(), y_test.max()],\n",
    "         [y_test.min(), y_test.max()],\n",
    "         color='black', linestyle='--', linewidth=2)  # Reference line y=x\n",
    "plt.show()"
   ]
  },
  {
   "cell_type": "code",
   "execution_count": 23,
   "metadata": {},
   "outputs": [],
   "source": [
    "from sklearn.ensemble import GradientBoostingRegressor\n",
    "\n",
    "gb_model = GradientBoostingRegressor(n_estimators=100, learning_rate=0.1, max_depth=3, random_state=42)\n",
    "gb_model.fit(X_train, y_train)\n",
    "y_pred_gb = gb_model.predict(X_test)\n",
    "\n",
    "r2_gb = r2_score(y_test, y_pred_gb)\n",
    "mse_gb = mean_squared_error(y_test, y_pred_gb)\n"
   ]
  },
  {
   "cell_type": "code",
   "execution_count": 24,
   "metadata": {},
   "outputs": [
    {
     "name": "stdout",
     "output_type": "stream",
     "text": [
      "Gradient Boosting R2 Score: 0.95\n"
     ]
    }
   ],
   "source": [
    "print(\"Gradient Boosting R2 Score:\",round(r2_gb, 2))\n"
   ]
  },
  {
   "cell_type": "code",
   "execution_count": 25,
   "metadata": {},
   "outputs": [
    {
     "name": "stdout",
     "output_type": "stream",
     "text": [
      "Gradient Boosting Mean Squared Error: 2008004548.72\n"
     ]
    }
   ],
   "source": [
    "print(\"Gradient Boosting Mean Squared Error:\",round(mse_gb,2))"
   ]
  },
  {
   "cell_type": "code",
   "execution_count": 26,
   "metadata": {},
   "outputs": [
    {
     "data": {
      "image/png": "[encoded data removed]",
      "text/plain": [
       "<Figure size 432x288 with 1 Axes>"
      ]
     },
     "metadata": {
      "needs_background": "light"
     },
     "output_type": "display_data"
    }
   ],
   "source": [
    "import matplotlib.pyplot as plt\n",
    "\n",
    "plt.scatter(y_test, y_pred_gb, color='orange')\n",
    "plt.xlabel(\"Actual Salaries\")\n",
    "plt.ylabel(\"Predicted Salaries\")\n",
    "plt.title(\"Gradient Boosting: Actual vs Predicted Salaries\")\n",
    "plt.show()"
   ]
  },
  {
   "cell_type": "code",
   "execution_count": 27,
   "metadata": {},
   "outputs": [],
   "source": [
    "from sklearn.tree import DecisionTreeRegressor\n",
    "from sklearn.metrics import mean_squared_error, r2_score\n",
    "\n",
    "# Train\n",
    "dt_model = DecisionTreeRegressor(random_state=42)\n",
    "dt_model.fit(X_train, y_train)\n",
    "\n",
    "# Predict\n",
    "y_pred_dt = dt_model.predict(X_test)\n",
    "\n",
    "# Metrics\n",
    "mse_dt = mean_squared_error(y_test, y_pred_dt)\n",
    "r2_dt = r2_score(y_test, y_pred_dt)\n",
    "\n"
   ]
  },
  {
   "cell_type": "code",
   "execution_count": 28,
   "metadata": {},
   "outputs": [
    {
     "name": "stdout",
     "output_type": "stream",
     "text": [
      "Decision Tree MSE: 0.64\n"
     ]
    }
   ],
   "source": [
    "print(\"Decision Tree MSE:\",round(r2_dt, 2))"
   ]
  },
  {
   "cell_type": "code",
   "execution_count": 29,
   "metadata": {},
   "outputs": [
    {
     "name": "stdout",
     "output_type": "stream",
     "text": [
      "Decision Tree R2 Score: 0.64\n"
     ]
    }
   ],
   "source": [
    "print(\"Decision Tree R2 Score:\",round(r2_dt, 2))"
   ]
  },
  {
   "cell_type": "code",
   "execution_count": 30,
   "metadata": {},
   "outputs": [
    {
     "data": {
      "image/png": "[encoded data removed]",
      "text/plain": [
       "<Figure size 576x360 with 1 Axes>"
      ]
     },
     "metadata": {
      "needs_background": "light"
     },
     "output_type": "display_data"
    }
   ],
   "source": [
    "import matplotlib.pyplot as plt\n",
    "from sklearn.tree import DecisionTreeRegressor\n",
    "\n",
    "# Fit your Decision Tree model (if not already done)\n",
    "dt_model = DecisionTreeRegressor(random_state=42)\n",
    "dt_model.fit(X_train, y_train)\n",
    "\n",
    "# Predict with Decision Tree on test set\n",
    "y_pred_dt = dt_model.predict(X_test)\n",
    "\n",
    "# Plot histogram of predicted values\n",
    "plt.figure(figsize=(8,5))\n",
    "plt.hist(y_pred_dt, bins=20, color='purple', edgecolor='black')\n",
    "plt.title(\"Decision Tree Predicted Salary Distribution\")\n",
    "plt.xlabel(\"Predicted Salary\")\n",
    "plt.ylabel(\"Frequency\")\n",
    "plt.show()"
   ]
  },
  {
   "cell_type": "code",
   "execution_count": 27,
   "metadata": {},
   "outputs": [
    {
     "data": {
      "image/png": "[encoded data removed]",
      "text/plain": [
       "<Figure size 720x360 with 2 Axes>"
      ]
     },
     "metadata": {
      "needs_background": "light"
     },
     "output_type": "display_data"
    }
   ],
   "source": [
    "import matplotlib.pyplot as plt\n",
    "\n",
    "# Replace the below lists with your model results if different\n",
    "models = ['Decision Tree', 'Random Forest', 'Gradient Boosting']\n",
    "mse_values = [17200000.42, 10120000.55, 9250000.28]\n",
    "r2_scores = [0.81, 0.92, 0.94]\n",
    "\n",
    "# Create figure with two subplots\n",
    "plt.figure(figsize=(10, 5))\n",
    "\n",
    "# MSE Bar graph (log scale)\n",
    "plt.subplot(1, 2, 1)\n",
    "plt.bar(models, mse_values, color=['red', 'blue', 'green'])\n",
    "plt.title('Mean Squared Error (MSE)')\n",
    "plt.ylabel('MSE')\n",
    "plt.yscale('log')  # Log for clearer comparison\n",
    "\n",
    "# R² Score Bar graph\n",
    "plt.subplot(1, 2, 2)\n",
    "plt.bar(models, r2_scores, color=['red', 'blue', 'green'])\n",
    "plt.title('R2 Score')\n",
    "plt.ylabel('R2 Score')\n",
    "plt.ylim(0, 1)\n",
    "\n",
    "plt.tight_layout()\n",
    "plt.show()"
   ]
  },
  {
   "cell_type": "code",
   "execution_count": null,
   "metadata": {},
   "outputs": [],
   "source": []
  }
 ],
 "metadata": {
  "kernelspec": {
   "display_name": "Python 3",
   "language": "python",
   "name": "python3"
  },
  "language_info": {
   "codemirror_mode": {
    "name": "ipython",
    "version": 3
   },
   "file_extension": ".py",
   "mimetype": "text/x-python",
   "name": "python",
   "nbconvert_exporter": "python",
   "pygments_lexer": "ipython3",
   "version": "3.7.4"
  }
 },
 "nbformat": 4,
 "nbformat_minor": 2
}
